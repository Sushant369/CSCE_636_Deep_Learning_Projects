{
  "nbformat": 4,
  "nbformat_minor": 0,
  "metadata": {
    "colab": {
      "provenance": []
    },
    "kernelspec": {
      "name": "python3",
      "display_name": "Python 3"
    },
    "language_info": {
      "name": "python"
    },
    "accelerator": "GPU",
    "gpuClass": "standard"
  },
  "cells": [
    {
      "cell_type": "code",
      "source": [
        "from google.colab import drive\n",
        "drive.mount('/content/drive')"
      ],
      "metadata": {
        "colab": {
          "base_uri": "https://localhost:8080/"
        },
        "id": "yxyJsMpLwy6f",
        "outputId": "db699434-1620-4b23-a6f3-00406a688e74"
      },
      "execution_count": null,
      "outputs": [
        {
          "output_type": "stream",
          "name": "stdout",
          "text": [
            "Drive already mounted at /content/drive; to attempt to forcibly remount, call drive.mount(\"/content/drive\", force_remount=True).\n"
          ]
        }
      ]
    },
    {
      "cell_type": "code",
      "execution_count": null,
      "metadata": {
        "id": "6anSFozxwmiC"
      },
      "outputs": [],
      "source": [
        "import numpy as np\n",
        "import pickle\n",
        "from tensorflow.keras.models import Sequential\n",
        "from tensorflow.keras.layers import Conv2D, MaxPooling2D, Flatten, Dense\n",
        "from tensorflow.keras.utils import to_categorical\n",
        "from sklearn.model_selection import train_test_split\n",
        "from tensorflow.keras.layers import Dropout\n",
        "\n",
        "\n",
        "# Load data\n",
        "\n",
        "train_images = pickle.load(open('/content/drive/MyDrive/DL Project 1 /636_project1_train_images','rb'))\n",
        "train_images = train_images.numpy()\n",
        "\n",
        "train_labels = pickle.load(open('/content/drive/MyDrive/DL Project 1 /636_project1_train_labels', 'rb'))"
      ]
    },
    {
      "cell_type": "markdown",
      "source": [
        "**Preprocessing on dataset**"
      ],
      "metadata": {
        "id": "Qj5xO_xHxEsv"
      }
    },
    {
      "cell_type": "code",
      "source": [
        "# Preprocessing\n",
        "train_images = train_images.reshape((60000, 28, 28, 1))\n",
        "train_images = train_images / 255.0\n",
        "train_labels = to_categorical(train_labels)\n",
        "\n",
        "# Split data into training and validation sets\n",
        "train_images, val_images, train_labels, val_labels = train_test_split(train_images, train_labels, test_size=0.2, random_state=42)"
      ],
      "metadata": {
        "id": "aOOCexYDwvhl"
      },
      "execution_count": null,
      "outputs": []
    },
    {
      "cell_type": "markdown",
      "source": [
        "**Create model**\n",
        "\n",
        "Input Layer: The input shape of the image is (28, 28, 1), which means it is a grayscale image with height and width of 28 pixels, and 1 channel. This is the first layer of the model, and it is a Convolutional layer.\n",
        "\n",
        "Convolutional Layers: The model has three convolutional layers. The first layer has 32 filters with a kernel size of (3,3) and uses the rectified linear unit (ReLU) activation function. The second layer has 64 filters with a kernel size of (3,3) and also uses the ReLU activation function. The third layer has 64 filters with a kernel size of (3,3) and uses the ReLU activation function.\n",
        "\n",
        "Pooling Layers: The model has two pooling layers that follow each convolutional layer. The first pooling layer has a pool size of (2,2) which reduces the spatial dimensions of the output by half. The second pooling layer also has a pool size of (2,2).\n",
        "\n",
        "Flatten Layer: The flatten layer is added after the last convolutional layer to convert the 3D tensor output of the convolutional layers into a 1D tensor.\n",
        "\n",
        "Dense Layers: The model has two dense layers, each with 128 neurons and ReLU activation function.\n",
        "\n",
        "Dropout Layer: A dropout layer is added with a rate of 0.5 to overcome overfitting by randomly setting a fraction of input units to zero during training, which forces the model to learn more robust features.\n",
        "\n",
        "Output Layer: The output layer has 10 neurons and uses the softmax activation function to output a probability distribution over the 10 classes of the MNIST dataset."
      ],
      "metadata": {
        "id": "r6URd2fwxXcC"
      }
    },
    {
      "cell_type": "code",
      "source": [
        "model = Sequential()\n",
        "model.add(Conv2D(32, (3, 3), activation='relu', input_shape=(28, 28, 1)))\n",
        "model.add(MaxPooling2D((2, 2)))\n",
        "model.add(Conv2D(64, (3, 3), activation='relu'))\n",
        "model.add(MaxPooling2D((2, 2)))\n",
        "model.add(Conv2D(64, (3, 3), activation='relu'))\n",
        "model.add(Flatten())\n",
        "model.add(Dense(128, activation='relu'))\n",
        "model.add(Dense(128, activation='relu'))\n",
        "model.add(Dropout(0.5)) #use dropout to overcome overfitting\n",
        "model.add(Dense(10, activation='softmax'))\n",
        "model.summary()"
      ],
      "metadata": {
        "colab": {
          "base_uri": "https://localhost:8080/"
        },
        "id": "hTCVpFD6xVlL",
        "outputId": "749c87f6-41cc-4418-aca3-f3ea94fa8b68"
      },
      "execution_count": null,
      "outputs": [
        {
          "output_type": "stream",
          "name": "stdout",
          "text": [
            "Model: \"sequential_4\"\n",
            "_________________________________________________________________\n",
            " Layer (type)                Output Shape              Param #   \n",
            "=================================================================\n",
            " conv2d_12 (Conv2D)          (None, 26, 26, 32)        320       \n",
            "                                                                 \n",
            " max_pooling2d_8 (MaxPooling  (None, 13, 13, 32)       0         \n",
            " 2D)                                                             \n",
            "                                                                 \n",
            " conv2d_13 (Conv2D)          (None, 11, 11, 64)        18496     \n",
            "                                                                 \n",
            " max_pooling2d_9 (MaxPooling  (None, 5, 5, 64)         0         \n",
            " 2D)                                                             \n",
            "                                                                 \n",
            " conv2d_14 (Conv2D)          (None, 3, 3, 64)          36928     \n",
            "                                                                 \n",
            " flatten_4 (Flatten)         (None, 576)               0         \n",
            "                                                                 \n",
            " dense_12 (Dense)            (None, 128)               73856     \n",
            "                                                                 \n",
            " dense_13 (Dense)            (None, 128)               16512     \n",
            "                                                                 \n",
            " dropout_4 (Dropout)         (None, 128)               0         \n",
            "                                                                 \n",
            " dense_14 (Dense)            (None, 10)                1290      \n",
            "                                                                 \n",
            "=================================================================\n",
            "Total params: 147,402\n",
            "Trainable params: 147,402\n",
            "Non-trainable params: 0\n",
            "_________________________________________________________________\n"
          ]
        }
      ]
    },
    {
      "cell_type": "markdown",
      "source": [
        "**Compile the code and train the model**"
      ],
      "metadata": {
        "id": "6E6QKi6ZxhEe"
      }
    },
    {
      "cell_type": "code",
      "source": [
        "# Compile mode\n",
        "model.compile(optimizer='adam', loss='categorical_crossentropy', metrics=['accuracy'])\n",
        "\n",
        "# Train model\n",
        "history = model.fit(train_images, train_labels, epochs=28, batch_size=64, validation_data=(val_images, val_labels))\n",
        "\n",
        "\n",
        "# Print train and validation accuracy\n",
        "train_acc = history.history['accuracy']\n",
        "val_acc = history.history['val_accuracy']\n",
        "print('Training accuracy:', train_acc[-1])\n",
        "print('Validation accuracy:', val_acc[-1])\n",
        "\n",
        "model.save('/content/drive/MyDrive/DL Project 1 /modelproject1.h5')\n"
      ],
      "metadata": {
        "colab": {
          "base_uri": "https://localhost:8080/"
        },
        "id": "nkpLREasxgUJ",
        "outputId": "d7cc0f86-fa3a-493a-8f1b-984415d1c95f"
      },
      "execution_count": null,
      "outputs": [
        {
          "output_type": "stream",
          "name": "stdout",
          "text": [
            "Epoch 1/28\n",
            "750/750 [==============================] - 59s 77ms/step - loss: 2.2340 - accuracy: 0.1550 - val_loss: 1.9196 - val_accuracy: 0.3224\n",
            "Epoch 2/28\n",
            "750/750 [==============================] - 50s 67ms/step - loss: 1.7222 - accuracy: 0.4034 - val_loss: 1.4949 - val_accuracy: 0.4876\n",
            "Epoch 3/28\n",
            "750/750 [==============================] - 52s 69ms/step - loss: 1.4952 - accuracy: 0.4925 - val_loss: 1.3560 - val_accuracy: 0.5268\n",
            "Epoch 4/28\n",
            "750/750 [==============================] - 49s 65ms/step - loss: 1.3950 - accuracy: 0.5299 - val_loss: 1.2725 - val_accuracy: 0.5602\n",
            "Epoch 5/28\n",
            "750/750 [==============================] - 54s 72ms/step - loss: 1.3226 - accuracy: 0.5552 - val_loss: 1.2341 - val_accuracy: 0.5750\n",
            "Epoch 6/28\n",
            "750/750 [==============================] - 49s 66ms/step - loss: 1.2688 - accuracy: 0.5755 - val_loss: 1.2004 - val_accuracy: 0.5853\n",
            "Epoch 7/28\n",
            "750/750 [==============================] - 50s 67ms/step - loss: 1.2272 - accuracy: 0.5891 - val_loss: 1.1604 - val_accuracy: 0.6029\n",
            "Epoch 8/28\n",
            "750/750 [==============================] - 50s 67ms/step - loss: 1.1957 - accuracy: 0.5985 - val_loss: 1.1485 - val_accuracy: 0.6093\n",
            "Epoch 9/28\n",
            "750/750 [==============================] - 51s 68ms/step - loss: 1.1733 - accuracy: 0.6074 - val_loss: 1.1535 - val_accuracy: 0.6053\n",
            "Epoch 10/28\n",
            "750/750 [==============================] - 51s 68ms/step - loss: 1.1447 - accuracy: 0.6169 - val_loss: 1.1372 - val_accuracy: 0.6141\n",
            "Epoch 11/28\n",
            "750/750 [==============================] - 53s 70ms/step - loss: 1.1300 - accuracy: 0.6245 - val_loss: 1.1632 - val_accuracy: 0.6025\n",
            "Epoch 12/28\n",
            "750/750 [==============================] - 52s 70ms/step - loss: 1.1042 - accuracy: 0.6328 - val_loss: 1.0952 - val_accuracy: 0.6282\n",
            "Epoch 13/28\n",
            "750/750 [==============================] - 49s 66ms/step - loss: 1.0881 - accuracy: 0.6354 - val_loss: 1.0881 - val_accuracy: 0.6268\n",
            "Epoch 14/28\n",
            "750/750 [==============================] - 53s 71ms/step - loss: 1.0714 - accuracy: 0.6418 - val_loss: 1.0759 - val_accuracy: 0.6384\n",
            "Epoch 15/28\n",
            "750/750 [==============================] - 50s 66ms/step - loss: 1.0552 - accuracy: 0.6463 - val_loss: 1.0671 - val_accuracy: 0.6401\n",
            "Epoch 16/28\n",
            "750/750 [==============================] - 52s 70ms/step - loss: 1.0408 - accuracy: 0.6525 - val_loss: 1.0650 - val_accuracy: 0.6362\n",
            "Epoch 17/28\n",
            "750/750 [==============================] - 49s 66ms/step - loss: 1.0312 - accuracy: 0.6548 - val_loss: 1.0613 - val_accuracy: 0.6397\n",
            "Epoch 18/28\n",
            "750/750 [==============================] - 52s 69ms/step - loss: 1.0169 - accuracy: 0.6568 - val_loss: 1.1020 - val_accuracy: 0.6273\n",
            "Epoch 19/28\n",
            "750/750 [==============================] - 51s 68ms/step - loss: 1.0056 - accuracy: 0.6614 - val_loss: 1.1082 - val_accuracy: 0.6310\n",
            "Epoch 20/28\n",
            "750/750 [==============================] - 49s 66ms/step - loss: 0.9985 - accuracy: 0.6653 - val_loss: 1.0544 - val_accuracy: 0.6424\n",
            "Epoch 21/28\n",
            "750/750 [==============================] - 52s 69ms/step - loss: 0.9844 - accuracy: 0.6685 - val_loss: 1.0462 - val_accuracy: 0.6503\n",
            "Epoch 22/28\n",
            "750/750 [==============================] - 52s 69ms/step - loss: 0.9765 - accuracy: 0.6726 - val_loss: 1.0651 - val_accuracy: 0.6349\n",
            "Epoch 23/28\n",
            "750/750 [==============================] - 50s 66ms/step - loss: 0.9623 - accuracy: 0.6754 - val_loss: 1.0771 - val_accuracy: 0.6403\n",
            "Epoch 24/28\n",
            "750/750 [==============================] - 51s 69ms/step - loss: 0.9560 - accuracy: 0.6786 - val_loss: 1.0464 - val_accuracy: 0.6466\n",
            "Epoch 25/28\n",
            "750/750 [==============================] - 49s 66ms/step - loss: 0.9471 - accuracy: 0.6805 - val_loss: 1.0756 - val_accuracy: 0.6425\n",
            "Epoch 26/28\n",
            "750/750 [==============================] - 51s 68ms/step - loss: 0.9354 - accuracy: 0.6848 - val_loss: 1.0669 - val_accuracy: 0.6418\n",
            "Epoch 27/28\n",
            "750/750 [==============================] - 51s 68ms/step - loss: 0.9228 - accuracy: 0.6880 - val_loss: 1.0720 - val_accuracy: 0.6413\n",
            "Epoch 28/28\n",
            "750/750 [==============================] - 52s 69ms/step - loss: 0.9146 - accuracy: 0.6906 - val_loss: 1.0668 - val_accuracy: 0.6413\n",
            "Training accuracy: 0.6906458139419556\n",
            "Validation accuracy: 0.6412500143051147\n"
          ]
        }
      ]
    },
    {
      "cell_type": "markdown",
      "source": [
        "**Plot the training loss and validation loss**\n"
      ],
      "metadata": {
        "id": "i2QAJhib6HzM"
      }
    },
    {
      "cell_type": "code",
      "source": [
        "import matplotlib.pyplot as plt\n",
        "epochs = range(1, len(history.history['loss']) + 1)\n",
        "plt.plot(epochs, history.history['loss'], 'bo', label='Training loss')\n",
        "plt.plot(epochs, history.history['val_loss'], 'b', label='Validation loss')\n",
        "plt.title('Training and validation loss')\n",
        "plt.xlabel('Epochs')\n",
        "plt.ylabel('Loss')\n",
        "plt.legend()\n",
        "plt.show()"
      ],
      "metadata": {
        "colab": {
          "base_uri": "https://localhost:8080/",
          "height": 295
        },
        "id": "HH-4TaLIz1vA",
        "outputId": "397c7769-2d15-45bd-bbcf-daad7f95e27f"
      },
      "execution_count": null,
      "outputs": [
        {
          "output_type": "display_data",
          "data": {
            "text/plain": [
              "<Figure size 432x288 with 1 Axes>"
            ],
            "image/png": "[encoded data removed]"
          },
          "metadata": {
            "needs_background": "light"
          }
        }
      ]
    },
    {
      "cell_type": "code",
      "source": [],
      "metadata": {
        "id": "wgN19MJh6JCe"
      },
      "execution_count": null,
      "outputs": []
    }
  ]
}